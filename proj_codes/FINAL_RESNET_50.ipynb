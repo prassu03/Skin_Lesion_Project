{
  "nbformat": 4,
  "nbformat_minor": 0,
  "metadata": {
    "colab": {
      "provenance": []
    },
    "kernelspec": {
      "name": "python3",
      "display_name": "Python 3"
    },
    "language_info": {
      "name": "python"
    }
  },
  "cells": [
    {
      "cell_type": "code",
      "source": [
        "from google.colab import drive\n",
        "# from google.colab import files\n",
        "drive.mount('/content/drive')"
      ],
      "metadata": {
        "colab": {
          "base_uri": "https://localhost:8080/"
        },
        "id": "-XrC4OmOJbCY",
        "outputId": "14d7c792-9415-4202-e07a-3768aaa71031"
      },
      "execution_count": 2,
      "outputs": [
        {
          "output_type": "stream",
          "name": "stdout",
          "text": [
            "Mounted at /content/drive\n"
          ]
        }
      ]
    },
    {
      "cell_type": "code",
      "source": [
        "import numpy as np\n",
        "import pandas as pd\n",
        "from sklearn.model_selection import train_test_split\n",
        "from sklearn.preprocessing import StandardScaler\n",
        "from sklearn.metrics import classification_report\n",
        "from tensorflow.keras.applications import InceptionV3\n",
        "from tensorflow.keras.models import Sequential\n",
        "from tensorflow.keras.layers import GlobalAveragePooling2D, Dense, Dropout\n",
        "from tensorflow.keras.optimizers import Adam\n",
        "from tensorflow.keras.callbacks import ReduceLROnPlateau, EarlyStopping, Callback\n",
        "from tensorflow.keras.preprocessing.image import ImageDataGenerator\n",
        "import tensorflow as tf\n",
        "\n"
      ],
      "metadata": {
        "id": "YTcWsX8bwTTm"
      },
      "execution_count": 5,
      "outputs": []
    },
    {
      "cell_type": "code",
      "source": [
        "# Load your dataset\n",
        "data = pd.read_csv('/content/drive/MyDrive/skin_lesion/undersampled_balanced_ham10000.csv')\n",
        "\n",
        "# Assuming the last column is the label for binary classification\n",
        "X = data.iloc[:, :-1].values  # Features\n",
        "y = data.iloc[:, -1].values   # Labels\n"
      ],
      "metadata": {
        "id": "ROUIEYnRwTe9"
      },
      "execution_count": 6,
      "outputs": []
    },
    {
      "cell_type": "code",
      "source": [
        "# Rescale and reshape the features\n",
        "scaler = StandardScaler()\n",
        "X_scaled = scaler.fit_transform(X)\n",
        "\n",
        "# Reshape the data for CNN input (Ensure correct shape for ResNet50)\n",
        "X_reshaped = X_scaled.reshape(-1, 64, 64, 3)\n",
        "\n",
        "# Split into train and test sets\n",
        "X_train, X_test, y_train, y_test = train_test_split(X_reshaped, y, test_size=0.2, random_state=42)\n"
      ],
      "metadata": {
        "id": "YN5uaapNwX0t"
      },
      "execution_count": 7,
      "outputs": []
    },
    {
      "cell_type": "code",
      "source": [
        "# Load ResNet50 model pre-trained on ImageNet (exclude the top layers)\n",
        "from tensorflow.keras.applications import ResNet50\n",
        "# Existing line should now work:\n",
        "resnet50_base = ResNet50(weights='imagenet', include_top=False, input_shape=(64, 64, 3))\n",
        "\n",
        "\n",
        "\n",
        "\n",
        "\n",
        "# Freeze the layers of ResNet50 base model\n",
        "for layer in resnet50_base.layers:\n",
        "    layer.trainable = False\n"
      ],
      "metadata": {
        "id": "sZwDSF3RwX35"
      },
      "execution_count": 8,
      "outputs": []
    },
    {
      "cell_type": "code",
      "source": [
        "# Build the model using Sequential with additional regularization and dropout\n",
        "from tensorflow.keras.regularizers import l2\n",
        "model = Sequential([\n",
        "    resnet50_base,\n",
        "    GlobalAveragePooling2D(),  # Global pooling to reduce spatial dimensions\n",
        "    Dense(128, activation='relu', kernel_regularizer=l2(0.001)),  # L2 regularization added\n",
        "    Dropout(0.5),  # Dropout to avoid overfitting\n",
        "    Dense(1, activation='sigmoid', kernel_regularizer=l2(0.001))  # L2 regularization on the output layer\n",
        "])\n"
      ],
      "metadata": {
        "id": "kL2H00QxwX9z"
      },
      "execution_count": 9,
      "outputs": []
    },
    {
      "cell_type": "code",
      "source": [
        "# Compile the model\n",
        "model.compile(optimizer=Adam(learning_rate=0.001), loss='binary_crossentropy', metrics=['accuracy'])"
      ],
      "metadata": {
        "id": "pV9cVkb_wYAh"
      },
      "execution_count": 10,
      "outputs": []
    },
    {
      "cell_type": "code",
      "source": [
        "# Define Data Generator for Data Augmentation\n",
        "datagen = ImageDataGenerator(\n",
        "    rotation_range=15,\n",
        "    width_shift_range=0.1,\n",
        "    height_shift_range=0.1,\n",
        "    shear_range=0.1,\n",
        "    zoom_range=0.1,\n",
        "    horizontal_flip=True\n",
        ")\n",
        "\n",
        "# Fit the data generator to the training data\n",
        "datagen.fit(X_train)\n"
      ],
      "metadata": {
        "id": "QmPSdr9dwYDV"
      },
      "execution_count": 11,
      "outputs": []
    },
    {
      "cell_type": "code",
      "source": [
        "# Define Learning Rate Reduction and Early Stopping for better convergence\n",
        "lr_reduction = ReduceLROnPlateau(monitor='val_loss', patience=3, factor=0.5, min_lr=0.001, verbose=1)\n",
        "early_stopping = EarlyStopping(monitor='val_loss', patience=10, restore_best_weights=True)\n",
        "\n",
        "class MetricsCallback(Callback):\n",
        "    def on_epoch_end(self, epoch, logs=None):\n",
        "        # Get predictions on validation data\n",
        "        y_pred = (self.model.predict(self.validation_data[0]) > 0.5).astype(\"int32\")\n",
        "        y_true = self.validation_data[1]\n",
        "\n",
        "        # Print classification report metrics: precision, recall, f1-score\n",
        "        report = classification_report(y_true, y_pred, output_dict=True)\n",
        "        print(f\"Epoch {epoch + 1} Classification Report:\")\n",
        "        print(f\"Precision: {report['1']['precision']:.4f}, Recall: {report['1']['recall']:.4f}, F1-Score: {report['1']['f1-score']:.4f}\")\n",
        "\n",
        "# Create an instance of the MetricsCallback and set validation data for it\n",
        "metrics_callback = MetricsCallback()\n",
        "metrics_callback.validation_data = (X_test, y_test)"
      ],
      "metadata": {
        "id": "yMfPPvRc9Kmd"
      },
      "execution_count": 12,
      "outputs": []
    },
    {
      "cell_type": "code",
      "source": [
        "# Train the model\n",
        "batch_size = 32\n",
        "epochs = 30  # Increased epochs for better model training\n",
        "history = model.fit(\n",
        "    datagen.flow(X_train, y_train, batch_size=batch_size),\n",
        "    validation_data=(X_test, y_test),\n",
        "    epochs=epochs,\n",
        "    callbacks=[lr_reduction, early_stopping]\n",
        ")"
      ],
      "metadata": {
        "colab": {
          "base_uri": "https://localhost:8080/"
        },
        "id": "cvbiAoXDwYIb",
        "outputId": "5efb51e7-b531-4b60-a94f-ef5bfbf5ca5b"
      },
      "execution_count": 13,
      "outputs": [
        {
          "output_type": "stream",
          "name": "stdout",
          "text": [
            "Epoch 1/30\n"
          ]
        },
        {
          "output_type": "stream",
          "name": "stderr",
          "text": [
            "/usr/local/lib/python3.10/dist-packages/keras/src/trainers/data_adapters/py_dataset_adapter.py:122: UserWarning: Your `PyDataset` class should call `super().__init__(**kwargs)` in its constructor. `**kwargs` can include `workers`, `use_multiprocessing`, `max_queue_size`. Do not pass these arguments to `fit()`, as they will be ignored.\n",
            "  self._warn_if_super_not_called()\n"
          ]
        },
        {
          "output_type": "stream",
          "name": "stdout",
          "text": [
            "\u001b[1m251/251\u001b[0m \u001b[32m━━━━━━━━━━━━━━━━━━━━\u001b[0m\u001b[37m\u001b[0m \u001b[1m193s\u001b[0m 736ms/step - accuracy: 0.5612 - loss: 0.7779 - val_accuracy: 0.6575 - val_loss: 0.6471 - learning_rate: 0.0010\n",
            "Epoch 2/30\n",
            "\u001b[1m251/251\u001b[0m \u001b[32m━━━━━━━━━━━━━━━━━━━━\u001b[0m\u001b[37m\u001b[0m \u001b[1m196s\u001b[0m 712ms/step - accuracy: 0.6394 - loss: 0.6621 - val_accuracy: 0.6800 - val_loss: 0.6331 - learning_rate: 0.0010\n",
            "Epoch 3/30\n",
            "\u001b[1m251/251\u001b[0m \u001b[32m━━━━━━━━━━━━━━━━━━━━\u001b[0m\u001b[37m\u001b[0m \u001b[1m192s\u001b[0m 671ms/step - accuracy: 0.6412 - loss: 0.6530 - val_accuracy: 0.6775 - val_loss: 0.6368 - learning_rate: 0.0010\n",
            "Epoch 4/30\n",
            "\u001b[1m251/251\u001b[0m \u001b[32m━━━━━━━━━━━━━━━━━━━━\u001b[0m\u001b[37m\u001b[0m \u001b[1m171s\u001b[0m 678ms/step - accuracy: 0.6655 - loss: 0.6292 - val_accuracy: 0.6276 - val_loss: 0.6353 - learning_rate: 0.0010\n",
            "Epoch 5/30\n",
            "\u001b[1m251/251\u001b[0m \u001b[32m━━━━━━━━━━━━━━━━━━━━\u001b[0m\u001b[37m\u001b[0m \u001b[1m185s\u001b[0m 737ms/step - accuracy: 0.6731 - loss: 0.6249 - val_accuracy: 0.7009 - val_loss: 0.6042 - learning_rate: 0.0010\n",
            "Epoch 6/30\n",
            "\u001b[1m251/251\u001b[0m \u001b[32m━━━━━━━━━━━━━━━━━━━━\u001b[0m\u001b[37m\u001b[0m \u001b[1m195s\u001b[0m 710ms/step - accuracy: 0.6831 - loss: 0.6208 - val_accuracy: 0.6695 - val_loss: 0.6079 - learning_rate: 0.0010\n",
            "Epoch 7/30\n",
            "\u001b[1m251/251\u001b[0m \u001b[32m━━━━━━━━━━━━━━━━━━━━\u001b[0m\u001b[37m\u001b[0m \u001b[1m181s\u001b[0m 719ms/step - accuracy: 0.6835 - loss: 0.6165 - val_accuracy: 0.7079 - val_loss: 0.5985 - learning_rate: 0.0010\n",
            "Epoch 8/30\n",
            "\u001b[1m251/251\u001b[0m \u001b[32m━━━━━━━━━━━━━━━━━━━━\u001b[0m\u001b[37m\u001b[0m \u001b[1m181s\u001b[0m 720ms/step - accuracy: 0.6909 - loss: 0.6082 - val_accuracy: 0.6890 - val_loss: 0.5899 - learning_rate: 0.0010\n",
            "Epoch 9/30\n",
            "\u001b[1m251/251\u001b[0m \u001b[32m━━━━━━━━━━━━━━━━━━━━\u001b[0m\u001b[37m\u001b[0m \u001b[1m174s\u001b[0m 692ms/step - accuracy: 0.6952 - loss: 0.6083 - val_accuracy: 0.6760 - val_loss: 0.5967 - learning_rate: 0.0010\n",
            "Epoch 10/30\n",
            "\u001b[1m251/251\u001b[0m \u001b[32m━━━━━━━━━━━━━━━━━━━━\u001b[0m\u001b[37m\u001b[0m \u001b[1m169s\u001b[0m 671ms/step - accuracy: 0.6948 - loss: 0.5989 - val_accuracy: 0.6940 - val_loss: 0.5885 - learning_rate: 0.0010\n",
            "Epoch 11/30\n",
            "\u001b[1m251/251\u001b[0m \u001b[32m━━━━━━━━━━━━━━━━━━━━\u001b[0m\u001b[37m\u001b[0m \u001b[1m211s\u001b[0m 709ms/step - accuracy: 0.7006 - loss: 0.6026 - val_accuracy: 0.7109 - val_loss: 0.5918 - learning_rate: 0.0010\n",
            "Epoch 12/30\n",
            "\u001b[1m251/251\u001b[0m \u001b[32m━━━━━━━━━━━━━━━━━━━━\u001b[0m\u001b[37m\u001b[0m \u001b[1m181s\u001b[0m 722ms/step - accuracy: 0.6954 - loss: 0.6005 - val_accuracy: 0.7019 - val_loss: 0.5854 - learning_rate: 0.0010\n",
            "Epoch 13/30\n",
            "\u001b[1m251/251\u001b[0m \u001b[32m━━━━━━━━━━━━━━━━━━━━\u001b[0m\u001b[37m\u001b[0m \u001b[1m191s\u001b[0m 678ms/step - accuracy: 0.6984 - loss: 0.5962 - val_accuracy: 0.7009 - val_loss: 0.5899 - learning_rate: 0.0010\n",
            "Epoch 14/30\n",
            "\u001b[1m251/251\u001b[0m \u001b[32m━━━━━━━━━━━━━━━━━━━━\u001b[0m\u001b[37m\u001b[0m \u001b[1m213s\u001b[0m 720ms/step - accuracy: 0.7031 - loss: 0.5892 - val_accuracy: 0.7124 - val_loss: 0.5815 - learning_rate: 0.0010\n",
            "Epoch 15/30\n",
            "\u001b[1m251/251\u001b[0m \u001b[32m━━━━━━━━━━━━━━━━━━━━\u001b[0m\u001b[37m\u001b[0m \u001b[1m181s\u001b[0m 720ms/step - accuracy: 0.7098 - loss: 0.5845 - val_accuracy: 0.7149 - val_loss: 0.5878 - learning_rate: 0.0010\n",
            "Epoch 16/30\n",
            "\u001b[1m251/251\u001b[0m \u001b[32m━━━━━━━━━━━━━━━━━━━━\u001b[0m\u001b[37m\u001b[0m \u001b[1m203s\u001b[0m 723ms/step - accuracy: 0.7076 - loss: 0.5923 - val_accuracy: 0.6900 - val_loss: 0.5840 - learning_rate: 0.0010\n",
            "Epoch 17/30\n",
            "\u001b[1m251/251\u001b[0m \u001b[32m━━━━━━━━━━━━━━━━━━━━\u001b[0m\u001b[37m\u001b[0m \u001b[1m180s\u001b[0m 716ms/step - accuracy: 0.6975 - loss: 0.5951 - val_accuracy: 0.7134 - val_loss: 0.5828 - learning_rate: 0.0010\n",
            "Epoch 18/30\n",
            "\u001b[1m251/251\u001b[0m \u001b[32m━━━━━━━━━━━━━━━━━━━━\u001b[0m\u001b[37m\u001b[0m \u001b[1m201s\u001b[0m 714ms/step - accuracy: 0.7043 - loss: 0.5883 - val_accuracy: 0.7079 - val_loss: 0.5829 - learning_rate: 0.0010\n",
            "Epoch 19/30\n",
            "\u001b[1m251/251\u001b[0m \u001b[32m━━━━━━━━━━━━━━━━━━━━\u001b[0m\u001b[37m\u001b[0m \u001b[1m178s\u001b[0m 710ms/step - accuracy: 0.6957 - loss: 0.6023 - val_accuracy: 0.7134 - val_loss: 0.5803 - learning_rate: 0.0010\n",
            "Epoch 20/30\n",
            "\u001b[1m251/251\u001b[0m \u001b[32m━━━━━━━━━━━━━━━━━━━━\u001b[0m\u001b[37m\u001b[0m \u001b[1m203s\u001b[0m 713ms/step - accuracy: 0.7140 - loss: 0.5848 - val_accuracy: 0.7189 - val_loss: 0.5908 - learning_rate: 0.0010\n",
            "Epoch 21/30\n",
            "\u001b[1m251/251\u001b[0m \u001b[32m━━━━━━━━━━━━━━━━━━━━\u001b[0m\u001b[37m\u001b[0m \u001b[1m204s\u001b[0m 723ms/step - accuracy: 0.7022 - loss: 0.5856 - val_accuracy: 0.7154 - val_loss: 0.5873 - learning_rate: 0.0010\n",
            "Epoch 22/30\n",
            "\u001b[1m251/251\u001b[0m \u001b[32m━━━━━━━━━━━━━━━━━━━━\u001b[0m\u001b[37m\u001b[0m \u001b[1m180s\u001b[0m 716ms/step - accuracy: 0.7001 - loss: 0.5888 - val_accuracy: 0.7124 - val_loss: 0.5761 - learning_rate: 0.0010\n",
            "Epoch 23/30\n",
            "\u001b[1m251/251\u001b[0m \u001b[32m━━━━━━━━━━━━━━━━━━━━\u001b[0m\u001b[37m\u001b[0m \u001b[1m178s\u001b[0m 710ms/step - accuracy: 0.7026 - loss: 0.5982 - val_accuracy: 0.7174 - val_loss: 0.5762 - learning_rate: 0.0010\n",
            "Epoch 24/30\n",
            "\u001b[1m251/251\u001b[0m \u001b[32m━━━━━━━━━━━━━━━━━━━━\u001b[0m\u001b[37m\u001b[0m \u001b[1m181s\u001b[0m 719ms/step - accuracy: 0.6973 - loss: 0.5869 - val_accuracy: 0.6775 - val_loss: 0.5977 - learning_rate: 0.0010\n",
            "Epoch 25/30\n",
            "\u001b[1m251/251\u001b[0m \u001b[32m━━━━━━━━━━━━━━━━━━━━\u001b[0m\u001b[37m\u001b[0m \u001b[1m171s\u001b[0m 679ms/step - accuracy: 0.7098 - loss: 0.5812 - val_accuracy: 0.7129 - val_loss: 0.5878 - learning_rate: 0.0010\n",
            "Epoch 26/30\n",
            "\u001b[1m251/251\u001b[0m \u001b[32m━━━━━━━━━━━━━━━━━━━━\u001b[0m\u001b[37m\u001b[0m \u001b[1m212s\u001b[0m 718ms/step - accuracy: 0.7175 - loss: 0.5843 - val_accuracy: 0.7149 - val_loss: 0.5824 - learning_rate: 0.0010\n",
            "Epoch 27/30\n",
            "\u001b[1m251/251\u001b[0m \u001b[32m━━━━━━━━━━━━━━━━━━━━\u001b[0m\u001b[37m\u001b[0m \u001b[1m179s\u001b[0m 711ms/step - accuracy: 0.7138 - loss: 0.5883 - val_accuracy: 0.7109 - val_loss: 0.5814 - learning_rate: 0.0010\n",
            "Epoch 28/30\n",
            "\u001b[1m251/251\u001b[0m \u001b[32m━━━━━━━━━━━━━━━━━━━━\u001b[0m\u001b[37m\u001b[0m \u001b[1m200s\u001b[0m 707ms/step - accuracy: 0.7100 - loss: 0.5819 - val_accuracy: 0.7164 - val_loss: 0.5757 - learning_rate: 0.0010\n",
            "Epoch 29/30\n",
            "\u001b[1m251/251\u001b[0m \u001b[32m━━━━━━━━━━━━━━━━━━━━\u001b[0m\u001b[37m\u001b[0m \u001b[1m203s\u001b[0m 711ms/step - accuracy: 0.7175 - loss: 0.5720 - val_accuracy: 0.7189 - val_loss: 0.5726 - learning_rate: 0.0010\n",
            "Epoch 30/30\n",
            "\u001b[1m251/251\u001b[0m \u001b[32m━━━━━━━━━━━━━━━━━━━━\u001b[0m\u001b[37m\u001b[0m \u001b[1m203s\u001b[0m 716ms/step - accuracy: 0.7147 - loss: 0.5780 - val_accuracy: 0.7029 - val_loss: 0.5783 - learning_rate: 0.0010\n"
          ]
        }
      ]
    },
    {
      "cell_type": "code",
      "source": [
        "#Evaluate the model on the test set\n",
        "test_loss, test_accuracy = model.evaluate(X_test, y_test)\n",
        "print(f\"Test Accuracy: {test_accuracy * 100:.2f}%\")\n"
      ],
      "metadata": {
        "colab": {
          "base_uri": "https://localhost:8080/"
        },
        "id": "hueDdmvkwYLq",
        "outputId": "dd7a9bd4-29a5-4636-a8c3-6113329978be"
      },
      "execution_count": 14,
      "outputs": [
        {
          "output_type": "stream",
          "name": "stdout",
          "text": [
            "\u001b[1m63/63\u001b[0m \u001b[32m━━━━━━━━━━━━━━━━━━━━\u001b[0m\u001b[37m\u001b[0m \u001b[1m31s\u001b[0m 494ms/step - accuracy: 0.7031 - loss: 0.5881\n",
            "Test Accuracy: 71.89%\n"
          ]
        }
      ]
    },
    {
      "cell_type": "code",
      "source": [
        "model.summary()"
      ],
      "metadata": {
        "colab": {
          "base_uri": "https://localhost:8080/",
          "height": 321
        },
        "id": "qxuI4sUwzBuY",
        "outputId": "0ee0f881-1cea-4a12-b600-03839fda5f14"
      },
      "execution_count": 19,
      "outputs": [
        {
          "output_type": "display_data",
          "data": {
            "text/plain": [
              "\u001b[1mModel: \"sequential\"\u001b[0m\n"
            ],
            "text/html": [
              "<pre style=\"white-space:pre;overflow-x:auto;line-height:normal;font-family:Menlo,'DejaVu Sans Mono',consolas,'Courier New',monospace\"><span style=\"font-weight: bold\">Model: \"sequential\"</span>\n",
              "</pre>\n"
            ]
          },
          "metadata": {}
        },
        {
          "output_type": "display_data",
          "data": {
            "text/plain": [
              "┏━━━━━━━━━━━━━━━━━━━━━━━━━━━━━━━━━━━━━━┳━━━━━━━━━━━━━━━━━━━━━━━━━━━━━┳━━━━━━━━━━━━━━━━━┓\n",
              "┃\u001b[1m \u001b[0m\u001b[1mLayer (type)                        \u001b[0m\u001b[1m \u001b[0m┃\u001b[1m \u001b[0m\u001b[1mOutput Shape               \u001b[0m\u001b[1m \u001b[0m┃\u001b[1m \u001b[0m\u001b[1m        Param #\u001b[0m\u001b[1m \u001b[0m┃\n",
              "┡━━━━━━━━━━━━━━━━━━━━━━━━━━━━━━━━━━━━━━╇━━━━━━━━━━━━━━━━━━━━━━━━━━━━━╇━━━━━━━━━━━━━━━━━┩\n",
              "│ resnet50 (\u001b[38;5;33mFunctional\u001b[0m)                │ (\u001b[38;5;45mNone\u001b[0m, \u001b[38;5;34m2\u001b[0m, \u001b[38;5;34m2\u001b[0m, \u001b[38;5;34m2048\u001b[0m)          │      \u001b[38;5;34m23,587,712\u001b[0m │\n",
              "├──────────────────────────────────────┼─────────────────────────────┼─────────────────┤\n",
              "│ global_average_pooling2d             │ (\u001b[38;5;45mNone\u001b[0m, \u001b[38;5;34m2048\u001b[0m)                │               \u001b[38;5;34m0\u001b[0m │\n",
              "│ (\u001b[38;5;33mGlobalAveragePooling2D\u001b[0m)             │                             │                 │\n",
              "├──────────────────────────────────────┼─────────────────────────────┼─────────────────┤\n",
              "│ dense (\u001b[38;5;33mDense\u001b[0m)                        │ (\u001b[38;5;45mNone\u001b[0m, \u001b[38;5;34m128\u001b[0m)                 │         \u001b[38;5;34m262,272\u001b[0m │\n",
              "├──────────────────────────────────────┼─────────────────────────────┼─────────────────┤\n",
              "│ dropout (\u001b[38;5;33mDropout\u001b[0m)                    │ (\u001b[38;5;45mNone\u001b[0m, \u001b[38;5;34m128\u001b[0m)                 │               \u001b[38;5;34m0\u001b[0m │\n",
              "├──────────────────────────────────────┼─────────────────────────────┼─────────────────┤\n",
              "│ dense_1 (\u001b[38;5;33mDense\u001b[0m)                      │ (\u001b[38;5;45mNone\u001b[0m, \u001b[38;5;34m1\u001b[0m)                   │             \u001b[38;5;34m129\u001b[0m │\n",
              "└──────────────────────────────────────┴─────────────────────────────┴─────────────────┘\n"
            ],
            "text/html": [
              "<pre style=\"white-space:pre;overflow-x:auto;line-height:normal;font-family:Menlo,'DejaVu Sans Mono',consolas,'Courier New',monospace\">┏━━━━━━━━━━━━━━━━━━━━━━━━━━━━━━━━━━━━━━┳━━━━━━━━━━━━━━━━━━━━━━━━━━━━━┳━━━━━━━━━━━━━━━━━┓\n",
              "┃<span style=\"font-weight: bold\"> Layer (type)                         </span>┃<span style=\"font-weight: bold\"> Output Shape                </span>┃<span style=\"font-weight: bold\">         Param # </span>┃\n",
              "┡━━━━━━━━━━━━━━━━━━━━━━━━━━━━━━━━━━━━━━╇━━━━━━━━━━━━━━━━━━━━━━━━━━━━━╇━━━━━━━━━━━━━━━━━┩\n",
              "│ resnet50 (<span style=\"color: #0087ff; text-decoration-color: #0087ff\">Functional</span>)                │ (<span style=\"color: #00d7ff; text-decoration-color: #00d7ff\">None</span>, <span style=\"color: #00af00; text-decoration-color: #00af00\">2</span>, <span style=\"color: #00af00; text-decoration-color: #00af00\">2</span>, <span style=\"color: #00af00; text-decoration-color: #00af00\">2048</span>)          │      <span style=\"color: #00af00; text-decoration-color: #00af00\">23,587,712</span> │\n",
              "├──────────────────────────────────────┼─────────────────────────────┼─────────────────┤\n",
              "│ global_average_pooling2d             │ (<span style=\"color: #00d7ff; text-decoration-color: #00d7ff\">None</span>, <span style=\"color: #00af00; text-decoration-color: #00af00\">2048</span>)                │               <span style=\"color: #00af00; text-decoration-color: #00af00\">0</span> │\n",
              "│ (<span style=\"color: #0087ff; text-decoration-color: #0087ff\">GlobalAveragePooling2D</span>)             │                             │                 │\n",
              "├──────────────────────────────────────┼─────────────────────────────┼─────────────────┤\n",
              "│ dense (<span style=\"color: #0087ff; text-decoration-color: #0087ff\">Dense</span>)                        │ (<span style=\"color: #00d7ff; text-decoration-color: #00d7ff\">None</span>, <span style=\"color: #00af00; text-decoration-color: #00af00\">128</span>)                 │         <span style=\"color: #00af00; text-decoration-color: #00af00\">262,272</span> │\n",
              "├──────────────────────────────────────┼─────────────────────────────┼─────────────────┤\n",
              "│ dropout (<span style=\"color: #0087ff; text-decoration-color: #0087ff\">Dropout</span>)                    │ (<span style=\"color: #00d7ff; text-decoration-color: #00d7ff\">None</span>, <span style=\"color: #00af00; text-decoration-color: #00af00\">128</span>)                 │               <span style=\"color: #00af00; text-decoration-color: #00af00\">0</span> │\n",
              "├──────────────────────────────────────┼─────────────────────────────┼─────────────────┤\n",
              "│ dense_1 (<span style=\"color: #0087ff; text-decoration-color: #0087ff\">Dense</span>)                      │ (<span style=\"color: #00d7ff; text-decoration-color: #00d7ff\">None</span>, <span style=\"color: #00af00; text-decoration-color: #00af00\">1</span>)                   │             <span style=\"color: #00af00; text-decoration-color: #00af00\">129</span> │\n",
              "└──────────────────────────────────────┴─────────────────────────────┴─────────────────┘\n",
              "</pre>\n"
            ]
          },
          "metadata": {}
        },
        {
          "output_type": "display_data",
          "data": {
            "text/plain": [
              "\u001b[1m Total params: \u001b[0m\u001b[38;5;34m24,374,917\u001b[0m (92.98 MB)\n"
            ],
            "text/html": [
              "<pre style=\"white-space:pre;overflow-x:auto;line-height:normal;font-family:Menlo,'DejaVu Sans Mono',consolas,'Courier New',monospace\"><span style=\"font-weight: bold\"> Total params: </span><span style=\"color: #00af00; text-decoration-color: #00af00\">24,374,917</span> (92.98 MB)\n",
              "</pre>\n"
            ]
          },
          "metadata": {}
        },
        {
          "output_type": "display_data",
          "data": {
            "text/plain": [
              "\u001b[1m Trainable params: \u001b[0m\u001b[38;5;34m262,401\u001b[0m (1.00 MB)\n"
            ],
            "text/html": [
              "<pre style=\"white-space:pre;overflow-x:auto;line-height:normal;font-family:Menlo,'DejaVu Sans Mono',consolas,'Courier New',monospace\"><span style=\"font-weight: bold\"> Trainable params: </span><span style=\"color: #00af00; text-decoration-color: #00af00\">262,401</span> (1.00 MB)\n",
              "</pre>\n"
            ]
          },
          "metadata": {}
        },
        {
          "output_type": "display_data",
          "data": {
            "text/plain": [
              "\u001b[1m Non-trainable params: \u001b[0m\u001b[38;5;34m23,587,712\u001b[0m (89.98 MB)\n"
            ],
            "text/html": [
              "<pre style=\"white-space:pre;overflow-x:auto;line-height:normal;font-family:Menlo,'DejaVu Sans Mono',consolas,'Courier New',monospace\"><span style=\"font-weight: bold\"> Non-trainable params: </span><span style=\"color: #00af00; text-decoration-color: #00af00\">23,587,712</span> (89.98 MB)\n",
              "</pre>\n"
            ]
          },
          "metadata": {}
        },
        {
          "output_type": "display_data",
          "data": {
            "text/plain": [
              "\u001b[1m Optimizer params: \u001b[0m\u001b[38;5;34m524,804\u001b[0m (2.00 MB)\n"
            ],
            "text/html": [
              "<pre style=\"white-space:pre;overflow-x:auto;line-height:normal;font-family:Menlo,'DejaVu Sans Mono',consolas,'Courier New',monospace\"><span style=\"font-weight: bold\"> Optimizer params: </span><span style=\"color: #00af00; text-decoration-color: #00af00\">524,804</span> (2.00 MB)\n",
              "</pre>\n"
            ]
          },
          "metadata": {}
        }
      ]
    },
    {
      "cell_type": "code",
      "source": [
        "model.save(\"FINAL_RESNET_model.h5\")\n",
        "model.save('FINAL_RESNET_model.keras')"
      ],
      "metadata": {
        "colab": {
          "base_uri": "https://localhost:8080/"
        },
        "id": "os12K_k3zB9T",
        "outputId": "9d328bb2-20bc-42b1-f2c1-0a665d30883f"
      },
      "execution_count": 20,
      "outputs": [
        {
          "output_type": "stream",
          "name": "stderr",
          "text": [
            "WARNING:absl:You are saving your model as an HDF5 file via `model.save()` or `keras.saving.save_model(model)`. This file format is considered legacy. We recommend using instead the native Keras format, e.g. `model.save('my_model.keras')` or `keras.saving.save_model(model, 'my_model.keras')`. \n"
          ]
        }
      ]
    },
    {
      "cell_type": "code",
      "source": [
        "import numpy as np\n",
        "import matplotlib.pyplot as plt\n",
        "import seaborn as sns\n",
        "from sklearn.metrics import precision_score, recall_score, f1_score, confusion_matrix, accuracy_score\n",
        "\n",
        "# Predictions\n",
        "# y_train_pred = model.predict(X_train)\n",
        "# y_train_pred_classes = np.argmax(y_train_pred, axis=1)\n",
        "# y_train_true_classes = np.argmax(y_train, axis=1)\n",
        "\n",
        "# y_test_pred = model.predict(X_test)\n",
        "# y_test_pred_classes = np.argmax(y_test_pred, axis=1)\n",
        "# y_test_true_classes = np.argmax(y_test, axis=1)\n",
        "\n",
        "y_train_pred = model.predict(X_train)\n",
        "y_train_pred_classes = (y_train_pred > 0.5).astype(int) # Convert probabilities to class labels (0 or 1)\n",
        "#y_train_true_classes = np.argmax(y_train, axis=1) # This line is removed\n",
        "y_train_true_classes = y_train # y_train already contains the true class labels\n",
        "\n",
        "y_test_pred = model.predict(X_test)\n",
        "y_test_pred_classes = (y_test_pred > 0.5).astype(int) # Convert probabilities to class labels (0 or 1)\n",
        "#y_test_true_classes = np.argmax(y_test, axis=1) # This line is removed\n",
        "y_test_true_classes = y_test # y_test already contains the true class labels\n",
        "\n",
        "# Metrics\n",
        "train_precision = precision_score(y_train_true_classes, y_train_pred_classes, average='weighted', zero_division=0)\n",
        "train_recall = recall_score(y_train_true_classes, y_train_pred_classes, average='weighted', zero_division=0)\n",
        "train_f1 = f1_score(y_train_true_classes, y_train_pred_classes, average='weighted')\n",
        "train_accuracy = accuracy_score(y_train_true_classes, y_train_pred_classes)\n",
        "\n",
        "test_precision = precision_score(y_test_true_classes, y_test_pred_classes, average='weighted', zero_division=0)\n",
        "test_recall = recall_score(y_test_true_classes, y_test_pred_classes, average='weighted', zero_division=0)\n",
        "test_f1 = f1_score(y_test_true_classes, y_test_pred_classes, average='weighted')\n",
        "test_accuracy = accuracy_score(y_test_true_classes, y_test_pred_classes)\n",
        "\n",
        "# Print Metrics\n",
        "print(\"Training Metrics:\")\n",
        "print(f\"Accuracy: {train_accuracy:.4f}, Precision: {train_precision:.4f}, Recall: {train_recall:.4f}, F1-Score: {train_f1:.4f}\")\n",
        "\n",
        "print(\"\\nTesting Metrics:\")\n",
        "print(f\"Accuracy: {test_accuracy:.4f}, Precision: {test_precision:.4f}, Recall: {test_recall:.4f}, F1-Score: {test_f1:.4f}\")"
      ],
      "metadata": {
        "id": "AwO03q43eXWs",
        "colab": {
          "base_uri": "https://localhost:8080/"
        },
        "outputId": "54bd8184-5bd0-4f2b-aa29-499f56e5be3c"
      },
      "execution_count": 21,
      "outputs": [
        {
          "output_type": "stream",
          "name": "stdout",
          "text": [
            "\u001b[1m251/251\u001b[0m \u001b[32m━━━━━━━━━━━━━━━━━━━━\u001b[0m\u001b[37m\u001b[0m \u001b[1m124s\u001b[0m 495ms/step\n",
            "\u001b[1m63/63\u001b[0m \u001b[32m━━━━━━━━━━━━━━━━━━━━\u001b[0m\u001b[37m\u001b[0m \u001b[1m32s\u001b[0m 505ms/step\n",
            "Training Metrics:\n",
            "Accuracy: 0.7329, Precision: 0.7459, Recall: 0.7329, F1-Score: 0.7298\n",
            "\n",
            "Testing Metrics:\n",
            "Accuracy: 0.7189, Precision: 0.7308, Recall: 0.7189, F1-Score: 0.7160\n"
          ]
        }
      ]
    },
    {
      "cell_type": "code",
      "source": [
        "# Prepare data for plotting\n",
        "metrics = ['Accuracy', 'Precision', 'Recall', 'F1 Score']\n",
        "train_values = [train_accuracy, train_precision, train_recall, train_f1]\n",
        "test_values = [test_accuracy, test_precision, test_recall, test_f1]\n",
        "\n",
        "# Set up the bar plot\n",
        "width = 0.35  # Width of the bars\n",
        "x = np.arange(len(metrics))  # The label locations\n",
        "\n",
        "fig, ax = plt.subplots(figsize=(10, 6))\n",
        "\n",
        "# Plot the bars for training and testing metrics\n",
        "rects1 = ax.bar(x - width/2, train_values, width, label='Train', color='blue')\n",
        "rects2 = ax.bar(x + width/2, test_values, width, label='Test', color='green')\n",
        "\n",
        "# Add some text for labels, title and custom x-axis tick labels\n",
        "ax.set_ylabel('Scores')\n",
        "ax.set_title('Comparison of Metrics for Training and Testing')\n",
        "ax.set_xticks(x)\n",
        "ax.set_xticklabels(metrics)\n",
        "ax.legend()\n",
        "\n",
        "# Function to add the labels on top of the bars\n",
        "def add_labels(rects):\n",
        "    for rect in rects:\n",
        "        height = rect.get_height()\n",
        "        ax.annotate(f'{height:.2f}',\n",
        "                    xy=(rect.get_x() + rect.get_width() / 2, height),\n",
        "                    xytext=(0, 3),  # 3 points vertical offset\n",
        "                    textcoords=\"offset points\",\n",
        "                    ha='center', va='bottom')\n",
        "\n",
        "# Add labels for each bar\n",
        "add_labels(rects1)\n",
        "add_labels(rects2)\n",
        "\n",
        "# Show the plot\n",
        "plt.tight_layout()\n",
        "plt.show()"
      ],
      "metadata": {
        "colab": {
          "base_uri": "https://localhost:8080/",
          "height": 528
        },
        "id": "kOUlP3jR7HEr",
        "outputId": "7e790980-545d-4c38-c977-10dde0cf1054"
      },
      "execution_count": 22,
      "outputs": [
        {
          "output_type": "display_data",
          "data": {
            "text/plain": [
              "<Figure size 1000x600 with 1 Axes>"
            ],
            "image/png": "[encoded data removed]"
          },
          "metadata": {}
        }
      ]
    }
  ]
}