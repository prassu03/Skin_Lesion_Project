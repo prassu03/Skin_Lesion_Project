{
  "nbformat": 4,
  "nbformat_minor": 0,
  "metadata": {
    "colab": {
      "provenance": []
    },
    "kernelspec": {
      "name": "python3",
      "display_name": "Python 3"
    },
    "language_info": {
      "name": "python"
    }
  },
  "cells": [
    {
      "cell_type": "code",
      "execution_count": 13,
      "metadata": {
        "colab": {
          "base_uri": "https://localhost:8080/"
        },
        "id": "tCz3bHD7jRhR",
        "outputId": "bb84fc85-06cb-42ea-cb02-7781de7f5f6e"
      },
      "outputs": [
        {
          "output_type": "stream",
          "name": "stdout",
          "text": [
            "Drive already mounted at /content/drive; to attempt to forcibly remount, call drive.mount(\"/content/drive\", force_remount=True).\n"
          ]
        }
      ],
      "source": [
        "from google.colab import drive\n",
        "# from google.colab import files\n",
        "drive.mount('/content/drive')"
      ]
    },
    {
      "cell_type": "code",
      "source": [
        "import pandas as pd\n",
        "\n",
        "# Load the dataset (replace 'path_to_your_dataset.csv' with your actual file path)\n",
        "data = pd.read_csv('/content/drive/MyDrive/Skin lesion detection and classification/hmnist_64_64_RBG.csv')\n",
        "\n",
        "# Specify the label column name\n",
        "label_column = 'label'  # Change this to match the actual name of your label column\n",
        "\n",
        "# Separate features and label\n",
        "features = data.drop(columns=[label_column])\n",
        "\n",
        "# Replace zeros with column means in the feature columns\n",
        "features = features.apply(lambda col: col.mask(col == 0, col.mean()), axis=0)\n",
        "\n",
        "# Recombine the features and label\n",
        "preprocessed_data = pd.concat([features, data[label_column]], axis=1)\n",
        "\n",
        "# # Save the preprocessed dataset to a new file\n",
        "# preprocessed_data.to_csv('preprocessed_ham10000.csv', index=False)\n",
        "\n",
        "# print(\"Preprocessing complete. Zero values replaced with column means.\")\n"
      ],
      "metadata": {
        "id": "nZYtn3ZsjSv5"
      },
      "execution_count": 14,
      "outputs": []
    },
    {
      "cell_type": "code",
      "source": [
        "print(preprocessed_data)"
      ],
      "metadata": {
        "colab": {
          "base_uri": "https://localhost:8080/"
        },
        "id": "KU_31qARjSzb",
        "outputId": "6b795ffa-42db-4b9f-aa63-1a5cd113a7e3"
      },
      "execution_count": 15,
      "outputs": [
        {
          "output_type": "stream",
          "name": "stdout",
          "text": [
            "           0      1      2      3      4      5      6      7      8      9  \\\n",
            "0      191.0  152.0  194.0  191.0  153.0  195.0  192.0  149.0  192.0  194.0   \n",
            "1       24.0   13.0   23.0   24.0   14.0   28.0   37.0   24.0   46.0   61.0   \n",
            "2      185.0  129.0  140.0  192.0  136.0  151.0  198.0  142.0  156.0  198.0   \n",
            "3       24.0   11.0   19.0   36.0   19.0   30.0   64.0   38.0   50.0   91.0   \n",
            "4      138.0   94.0  117.0  158.0  113.0  138.0  178.0  133.0  161.0  191.0   \n",
            "...      ...    ...    ...    ...    ...    ...    ...    ...    ...    ...   \n",
            "10010  161.0  142.0  154.0  159.0  142.0  153.0  153.0  136.0  147.0  151.0   \n",
            "10011    6.0    6.0    4.0    7.0    8.0    6.0    8.0    8.0    6.0   28.0   \n",
            "10012  116.0  107.0  109.0  141.0  128.0  128.0  133.0  117.0  113.0  156.0   \n",
            "10013  159.0  123.0  145.0  156.0  115.0  133.0  161.0  130.0  150.0  165.0   \n",
            "10014  176.0  144.0  132.0  177.0  143.0  128.0  180.0  149.0  130.0  181.0   \n",
            "\n",
            "       ...  12279  12280  12281  12282  12283  12284  12285  12286  12287  \\\n",
            "0      ...  185.0  154.0  180.0  186.0  156.0  184.0  182.0  152.0  173.0   \n",
            "1      ...   26.0   15.0   29.0   27.0   15.0   28.0   24.0   13.0   25.0   \n",
            "2      ...  152.0  120.0  138.0  144.0  113.0  123.0  115.0   81.0   84.0   \n",
            "3      ...   27.0   13.0   16.0   25.0   12.0   16.0   24.0    9.0   14.0   \n",
            "4      ...  140.0  106.0  118.0  108.0   77.0   92.0   67.0   40.0   55.0   \n",
            "...    ...    ...    ...    ...    ...    ...    ...    ...    ...    ...   \n",
            "10010  ...  208.0  187.0  187.0  205.0  185.0  186.0  201.0  183.0  184.0   \n",
            "10011  ...    8.0    8.0    6.0    6.0    7.0    5.0    3.0    4.0    2.0   \n",
            "10012  ...  162.0  137.0  132.0  174.0  153.0  148.0  172.0  152.0  146.0   \n",
            "10013  ...  187.0  160.0  171.0  183.0  159.0  166.0  182.0  153.0  163.0   \n",
            "10014  ...  175.0  139.0  130.0  175.0  138.0  127.0  172.0  135.0  120.0   \n",
            "\n",
            "       label  \n",
            "0          0  \n",
            "1          0  \n",
            "2          0  \n",
            "3          0  \n",
            "4          0  \n",
            "...      ...  \n",
            "10010      1  \n",
            "10011      1  \n",
            "10012      1  \n",
            "10013      1  \n",
            "10014      1  \n",
            "\n",
            "[10015 rows x 12289 columns]\n"
          ]
        }
      ]
    },
    {
      "cell_type": "code",
      "source": [
        "print(preprocessed_data.shape)"
      ],
      "metadata": {
        "colab": {
          "base_uri": "https://localhost:8080/"
        },
        "id": "4KmP-yxBkVn1",
        "outputId": "35eb4f61-72dc-4fc2-f6aa-ddff034ebb08"
      },
      "execution_count": 16,
      "outputs": [
        {
          "output_type": "stream",
          "name": "stdout",
          "text": [
            "(10015, 12289)\n"
          ]
        }
      ]
    },
    {
      "cell_type": "code",
      "source": [
        "import pandas as pd\n",
        "\n",
        "# Load the dataset (replace 'path_to_your_dataset.csv' with your actual file path)\n",
        "data = pd.read_csv('/content/drive/MyDrive/Skin lesion detection and classification/hmnist_64_64_RBG.csv')\n",
        "\n",
        "# Specify the label column name\n",
        "label_column = 'label'  # Change this to match the actual name of your label column\n",
        "\n",
        "# Check and print the count of zeros in each column before preprocessing\n",
        "zero_counts = (data == 0).sum()\n",
        "print(\"Count of zeros in each column before preprocessing:\")\n",
        "print(zero_counts)\n",
        "\n",
        "# Separate features and label\n",
        "features = data.drop(columns=[label_column])\n",
        "\n",
        "# Replace zeros with column means in the feature columns\n",
        "features = features.apply(lambda col: col.mask(col == 0, col.mean()), axis=0)\n",
        "\n",
        "# Recombine the features and label\n",
        "preprocessed_data = pd.concat([features, data[label_column]], axis=1)\n",
        "\n",
        "# Check and print the count of zeros in each column after preprocessing\n",
        "zero_counts_after = (preprocessed_data == 0).sum()\n",
        "print(\"Count of zeros in each column after preprocessing:\")\n",
        "print(zero_counts_after)\n"
      ],
      "metadata": {
        "colab": {
          "base_uri": "https://localhost:8080/"
        },
        "id": "CawZleZMl4S5",
        "outputId": "242c32df-d9f2-4548-cb32-b6c6da337ca6"
      },
      "execution_count": 17,
      "outputs": [
        {
          "output_type": "stream",
          "name": "stdout",
          "text": [
            "Count of zeros in each column before preprocessing:\n",
            "0         244\n",
            "1         249\n",
            "2         245\n",
            "3         225\n",
            "4         227\n",
            "         ... \n",
            "12284     203\n",
            "12285     215\n",
            "12286     228\n",
            "12287     224\n",
            "label    8061\n",
            "Length: 12289, dtype: int64\n",
            "Count of zeros in each column after preprocessing:\n",
            "0           0\n",
            "1           0\n",
            "2           0\n",
            "3           0\n",
            "4           0\n",
            "         ... \n",
            "12284       0\n",
            "12285       0\n",
            "12286       0\n",
            "12287       0\n",
            "label    8061\n",
            "Length: 12289, dtype: int64\n"
          ]
        }
      ]
    },
    {
      "cell_type": "code",
      "source": [
        "zero_count = (features == 0).sum().sum()\n",
        "print(f\"Number of zeros in the dataset: {zero_count}\")"
      ],
      "metadata": {
        "colab": {
          "base_uri": "https://localhost:8080/"
        },
        "id": "AriFZTLIkcyW",
        "outputId": "8ded985c-a460-4139-86bd-f404bede36cd"
      },
      "execution_count": 18,
      "outputs": [
        {
          "output_type": "stream",
          "name": "stdout",
          "text": [
            "Number of zeros in the dataset: 0\n"
          ]
        }
      ]
    },
    {
      "cell_type": "code",
      "source": [
        "# Save the preprocessed dataset to a new file\n",
        "preprocessed_data.to_csv('preprocessed_ham10000.csv', index=False)\n",
        "\n",
        "print(\"Preprocessing complete. Zero values replaced with column means.\")"
      ],
      "metadata": {
        "colab": {
          "base_uri": "https://localhost:8080/"
        },
        "id": "B3Icn9A-mkXn",
        "outputId": "66d2c05a-649a-4e72-cab1-53fa1f195c91"
      },
      "execution_count": 19,
      "outputs": [
        {
          "output_type": "stream",
          "name": "stdout",
          "text": [
            "Preprocessing complete. Zero values replaced with column means.\n"
          ]
        }
      ]
    },
    {
      "cell_type": "code",
      "source": [
        "print(preprocessed_data)"
      ],
      "metadata": {
        "colab": {
          "base_uri": "https://localhost:8080/"
        },
        "id": "genOi9oZ7omh",
        "outputId": "67a2992d-5743-4970-e607-0fa8a3902258"
      },
      "execution_count": 20,
      "outputs": [
        {
          "output_type": "stream",
          "name": "stdout",
          "text": [
            "           0      1      2      3      4      5      6      7      8      9  \\\n",
            "0      191.0  152.0  194.0  191.0  153.0  195.0  192.0  149.0  192.0  194.0   \n",
            "1       24.0   13.0   23.0   24.0   14.0   28.0   37.0   24.0   46.0   61.0   \n",
            "2      185.0  129.0  140.0  192.0  136.0  151.0  198.0  142.0  156.0  198.0   \n",
            "3       24.0   11.0   19.0   36.0   19.0   30.0   64.0   38.0   50.0   91.0   \n",
            "4      138.0   94.0  117.0  158.0  113.0  138.0  178.0  133.0  161.0  191.0   \n",
            "...      ...    ...    ...    ...    ...    ...    ...    ...    ...    ...   \n",
            "10010  161.0  142.0  154.0  159.0  142.0  153.0  153.0  136.0  147.0  151.0   \n",
            "10011    6.0    6.0    4.0    7.0    8.0    6.0    8.0    8.0    6.0   28.0   \n",
            "10012  116.0  107.0  109.0  141.0  128.0  128.0  133.0  117.0  113.0  156.0   \n",
            "10013  159.0  123.0  145.0  156.0  115.0  133.0  161.0  130.0  150.0  165.0   \n",
            "10014  176.0  144.0  132.0  177.0  143.0  128.0  180.0  149.0  130.0  181.0   \n",
            "\n",
            "       ...  12279  12280  12281  12282  12283  12284  12285  12286  12287  \\\n",
            "0      ...  185.0  154.0  180.0  186.0  156.0  184.0  182.0  152.0  173.0   \n",
            "1      ...   26.0   15.0   29.0   27.0   15.0   28.0   24.0   13.0   25.0   \n",
            "2      ...  152.0  120.0  138.0  144.0  113.0  123.0  115.0   81.0   84.0   \n",
            "3      ...   27.0   13.0   16.0   25.0   12.0   16.0   24.0    9.0   14.0   \n",
            "4      ...  140.0  106.0  118.0  108.0   77.0   92.0   67.0   40.0   55.0   \n",
            "...    ...    ...    ...    ...    ...    ...    ...    ...    ...    ...   \n",
            "10010  ...  208.0  187.0  187.0  205.0  185.0  186.0  201.0  183.0  184.0   \n",
            "10011  ...    8.0    8.0    6.0    6.0    7.0    5.0    3.0    4.0    2.0   \n",
            "10012  ...  162.0  137.0  132.0  174.0  153.0  148.0  172.0  152.0  146.0   \n",
            "10013  ...  187.0  160.0  171.0  183.0  159.0  166.0  182.0  153.0  163.0   \n",
            "10014  ...  175.0  139.0  130.0  175.0  138.0  127.0  172.0  135.0  120.0   \n",
            "\n",
            "       label  \n",
            "0          0  \n",
            "1          0  \n",
            "2          0  \n",
            "3          0  \n",
            "4          0  \n",
            "...      ...  \n",
            "10010      1  \n",
            "10011      1  \n",
            "10012      1  \n",
            "10013      1  \n",
            "10014      1  \n",
            "\n",
            "[10015 rows x 12289 columns]\n"
          ]
        }
      ]
    },
    {
      "cell_type": "code",
      "source": [
        "from imblearn.under_sampling import RandomUnderSampler\n",
        "undersampler = RandomUnderSampler(random_state=42)\n",
        "features_resampled, labels_resampled = undersampler.fit_resample(features, labels)\n",
        "\n",
        "# Check new label distribution\n",
        "print(\"Balanced label distribution after undersampling:\")\n",
        "print(pd.Series(labels_resampled).value_counts())\n"
      ],
      "metadata": {
        "colab": {
          "base_uri": "https://localhost:8080/"
        },
        "id": "xO01wvySo213",
        "outputId": "0e64c7a0-b3cd-4046-8d57-68ec6edeec93"
      },
      "execution_count": 22,
      "outputs": [
        {
          "output_type": "stream",
          "name": "stderr",
          "text": [
            "/usr/local/lib/python3.10/dist-packages/sklearn/base.py:484: FutureWarning: `BaseEstimator._check_n_features` is deprecated in 1.6 and will be removed in 1.7. Use `sklearn.utils.validation._check_n_features` instead.\n",
            "  warnings.warn(\n",
            "/usr/local/lib/python3.10/dist-packages/sklearn/base.py:493: FutureWarning: `BaseEstimator._check_feature_names` is deprecated in 1.6 and will be removed in 1.7. Use `sklearn.utils.validation._check_feature_names` instead.\n",
            "  warnings.warn(\n"
          ]
        },
        {
          "output_type": "stream",
          "name": "stdout",
          "text": [
            "Balanced label distribution after undersampling:\n",
            "label\n",
            "0    1954\n",
            "1    1954\n",
            "Name: count, dtype: int64\n"
          ]
        }
      ]
    },
    {
      "cell_type": "code",
      "source": [
        "import pandas as pd\n",
        "from sklearn.metrics import confusion_matrix, classification_report\n",
        "from imblearn.over_sampling import SMOTE\n",
        "import seaborn as sns\n",
        "import matplotlib.pyplot as plt\n",
        "\n",
        "# Load the dataset (replace 'path_to_your_dataset.csv' with your actual file path)\n",
        "data = pd.read_csv('/content/drive/MyDrive/Skin lesion detection and classification/hmnist_64_64_RBG.csv')\n",
        "\n",
        "# Specify the label column name\n",
        "label_column = 'label'  # Change this to match the actual name of your label column\n",
        "\n",
        "# Separate features and label\n",
        "features = data.drop(columns=[label_column])\n",
        "labels = data[label_column]\n",
        "\n",
        "# Count and print the number of zeros in the dataset\n",
        "zero_count = (features == 0).sum().sum()\n",
        "print(f\"Number of zeros in the dataset: {zero_count}\")\n",
        "\n",
        "# Check if the dataset is balanced in the label column\n",
        "label_counts = labels.value_counts()\n",
        "print(\"Label distribution:\")\n",
        "print(label_counts)\n",
        "\n",
        "# Generate a confusion matrix for a dummy prediction (for demonstration purposes)\n",
        "# Assuming a binary classification and predicting all zeros as a naive model\n",
        "dummy_predictions = [0] * len(labels)\n",
        "cm = confusion_matrix(labels, dummy_predictions)\n",
        "\n",
        "# Print and visualize the confusion matrix\n",
        "print(\"Confusion Matrix:\")\n",
        "print(cm)\n",
        "\n",
        "sns.heatmap(cm, annot=True, fmt='d', cmap='Blues', xticklabels=label_counts.index, yticklabels=label_counts.index)\n",
        "plt.xlabel('Predicted')\n",
        "plt.ylabel('Actual')\n",
        "plt.title('Confusion Matrix')\n",
        "plt.show()\n",
        "\n",
        "# Apply SMOTE to balance the dataset without reducing the total number of records\n",
        "smote = SMOTE(random_state=42, sampling_strategy='auto')\n",
        "features_resampled, labels_resampled = smote.fit_resample(features, labels)\n",
        "\n",
        "# Randomly sample the majority class to match the original dataset size\n",
        "resampled_data = pd.concat([features_resampled, labels_resampled], axis=1).sample(n=len(data), random_state=42)\n",
        "\n",
        "# Check new label distribution\n",
        "balanced_label_counts = resampled_data[label_column].value_counts()\n",
        "print(\"Balanced label distribution after applying SMOTE and resampling to maintain size:\")\n",
        "print(balanced_label_counts)\n",
        "\n",
        "# Replace zeros with column means in the resampled feature columns\n",
        "features_resampled = resampled_data.drop(columns=[label_column]).apply(lambda col: col.mask(col == 0, col.mean()), axis=0)\n",
        "labels_resampled = resampled_data[label_column]\n",
        "\n",
        "# Recombine the resampled features and labels\n",
        "balanced_data = pd.concat([features_resampled, labels_resampled], axis=1)\n",
        "\n",
        "# # Save the balanced dataset to a new file\n",
        "balanced_data.to_csv('undersampled_balanced_ham10000.csv', index=False)\n",
        "\n",
        "print(\"Preprocessing and balancing complete. Dataset saved to 'undersampled_balanced_ham10000.csv'.\")\n"
      ],
      "metadata": {
        "colab": {
          "base_uri": "https://localhost:8080/",
          "height": 822
        },
        "id": "S8HUWxBWuLyf",
        "outputId": "d41068be-c28d-4549-800f-750e259827a0"
      },
      "execution_count": 23,
      "outputs": [
        {
          "output_type": "stream",
          "name": "stdout",
          "text": [
            "Number of zeros in the dataset: 47097\n",
            "Label distribution:\n",
            "label\n",
            "0    8061\n",
            "1    1954\n",
            "Name: count, dtype: int64\n",
            "Confusion Matrix:\n",
            "[[8061    0]\n",
            " [1954    0]]\n"
          ]
        },
        {
          "output_type": "display_data",
          "data": {
            "text/plain": [
              "<Figure size 640x480 with 2 Axes>"
            ],
            "image/png": "[encoded data removed]"
          },
          "metadata": {}
        },
        {
          "output_type": "stream",
          "name": "stderr",
          "text": [
            "/usr/local/lib/python3.10/dist-packages/sklearn/base.py:474: FutureWarning: `BaseEstimator._validate_data` is deprecated in 1.6 and will be removed in 1.7. Use `sklearn.utils.validation.validate_data` instead. This function becomes public and is part of the scikit-learn developer API.\n",
            "  warnings.warn(\n",
            "/usr/local/lib/python3.10/dist-packages/sklearn/utils/_tags.py:354: FutureWarning: The SMOTE or classes from which it inherits use `_get_tags` and `_more_tags`. Please define the `__sklearn_tags__` method, or inherit from `sklearn.base.BaseEstimator` and/or other appropriate mixins such as `sklearn.base.TransformerMixin`, `sklearn.base.ClassifierMixin`, `sklearn.base.RegressorMixin`, and `sklearn.base.OutlierMixin`. From scikit-learn 1.7, not defining `__sklearn_tags__` will raise an error.\n",
            "  warnings.warn(\n"
          ]
        },
        {
          "output_type": "stream",
          "name": "stdout",
          "text": [
            "Balanced label distribution after applying SMOTE and resampling to maintain size:\n",
            "label\n",
            "0    5060\n",
            "1    4955\n",
            "Name: count, dtype: int64\n",
            "Preprocessing and balancing complete. Dataset saved to 'undersampled_balanced_ham10000.csv'.\n"
          ]
        }
      ]
    },
    {
      "cell_type": "code",
      "source": [
        "print(balanced_data.shape)"
      ],
      "metadata": {
        "colab": {
          "base_uri": "https://localhost:8080/"
        },
        "id": "btcez2FC5DqQ",
        "outputId": "95444b65-8516-4833-a0b9-002df99c9f1f"
      },
      "execution_count": 24,
      "outputs": [
        {
          "output_type": "stream",
          "name": "stdout",
          "text": [
            "(10015, 12289)\n"
          ]
        }
      ]
    },
    {
      "cell_type": "code",
      "source": [],
      "metadata": {
        "id": "fTzhkfwEufuX"
      },
      "execution_count": 24,
      "outputs": []
    },
    {
      "cell_type": "code",
      "source": [],
      "metadata": {
        "id": "wfowN2Y0ufy7"
      },
      "execution_count": 24,
      "outputs": []
    },
    {
      "cell_type": "code",
      "source": [],
      "metadata": {
        "id": "YOvnrbHFt1sj"
      },
      "execution_count": 24,
      "outputs": []
    }
  ]
}